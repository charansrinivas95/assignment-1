{
 "cells": [
  {
   "cell_type": "raw",
   "metadata": {},
   "source": [
    "1st ans\n",
    "RAINBOW\n"
   ]
  },
  {
   "cell_type": "raw",
   "metadata": {},
   "source": [
    "\n",
    "print(\"LETS UPGRADE\")"
   ]
  },
  {
   "cell_type": "raw",
   "metadata": {},
   "source": [
    "costprice=float(input(\"enter the cost price\"))\n",
    "sellingprice=float(input(\"enter the selling price\"))\n",
    "\n",
    "if costprice-sellingprice>0 : print(\"Profit\")\n",
    "else:print(\"loss\")\n",
    "    "
   ]
  },
  {
   "cell_type": "raw",
   "metadata": {},
   "source": [
    "costprice=int(input())\n",
    "sellingprice=int(input())\n",
    "if costprice-sellingprice>0: print(\"profit\")\n",
    "elif costprice-sellingprice<0: print(\"loss\")   \n",
    "else : print(\"neither\")    "
   ]
  },
  {
   "cell_type": "code",
   "execution_count": 6,
   "metadata": {},
   "outputs": [
    {
     "name": "stdout",
     "output_type": "stream",
     "text": [
      "10\n",
      "800\n"
     ]
    }
   ],
   "source": [
    "\n",
    "indianrupees=int(input())\n",
    "euro=int(indianrupees*80)\n",
    "print(euro)\n"
   ]
  },
  {
   "cell_type": "code",
   "execution_count": null,
   "metadata": {},
   "outputs": [],
   "source": []
  },
  {
   "cell_type": "code",
   "execution_count": null,
   "metadata": {},
   "outputs": [],
   "source": []
  },
  {
   "cell_type": "code",
   "execution_count": null,
   "metadata": {},
   "outputs": [],
   "source": []
  }
 ],
 "metadata": {
  "kernelspec": {
   "display_name": "Python 3",
   "language": "python",
   "name": "python3"
  },
  "language_info": {
   "codemirror_mode": {
    "name": "ipython",
    "version": 3
   },
   "file_extension": ".py",
   "mimetype": "text/x-python",
   "name": "python",
   "nbconvert_exporter": "python",
   "pygments_lexer": "ipython3",
   "version": "3.8.3"
  }
 },
 "nbformat": 4,
 "nbformat_minor": 4
}
