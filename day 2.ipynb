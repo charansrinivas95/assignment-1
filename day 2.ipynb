{
 "cells": [
  {
   "cell_type": "code",
   "execution_count": null,
   "metadata": {},
   "outputs": [],
   "source": []
  },
  {
   "cell_type": "raw",
   "metadata": {},
   "source": [
    "queestion1"
   ]
  },
  {
   "cell_type": "code",
   "execution_count": 1,
   "metadata": {},
   "outputs": [
    {
     "name": "stdout",
     "output_type": "stream",
     "text": [
      "1\n",
      "1\n",
      "1\n",
      "1\n",
      "1\n",
      "2\n",
      "2\n",
      "3\n",
      "3\n",
      "3\n",
      "[2, 2]\n"
     ]
    }
   ],
   "source": [
    "list=[]\n",
    "num=10\n",
    "for i in range(num):\n",
    "    data=int(input())\n",
    "    if data%2==0:\n",
    "        list.append(data)\n",
    "print(list)        \n",
    "        \n"
   ]
  },
  {
   "cell_type": "raw",
   "metadata": {},
   "source": [
    "question2"
   ]
  },
  {
   "cell_type": "code",
   "execution_count": 5,
   "metadata": {},
   "outputs": [
    {
     "name": "stdout",
     "output_type": "stream",
     "text": [
      "[10, 20, 30, 40, 50]\n"
     ]
    }
   ],
   "source": [
    "a=[2,4,6,8,10]\n",
    "b=[]\n",
    "for i in a:\n",
    "    b.append(i*5)\n",
    "print(b)"
   ]
  },
  {
   "cell_type": "code",
   "execution_count": 6,
   "metadata": {},
   "outputs": [
    {
     "name": "stdout",
     "output_type": "stream",
     "text": [
      "[10, 20, 30, 40, 50]\n"
     ]
    }
   ],
   "source": [
    "b=[i*5 for i in a]\n",
    "print(b)"
   ]
  },
  {
   "cell_type": "raw",
   "metadata": {},
   "source": [
    "question 3"
   ]
  },
  {
   "cell_type": "code",
   "execution_count": null,
   "metadata": {},
   "outputs": [],
   "source": [
    "number = int(input(\"Please enter the Maximum Number : \"))\n",
    "myDict = {}\n",
    "\n",
    "for x in range(1, number + 1):\n",
    "    myDict[x] = x * x\n",
    "    \n",
    "print(\"\\nDictionary = \", myDict)"
   ]
  },
  {
   "cell_type": "raw",
   "metadata": {},
   "source": [
    "question 4"
   ]
  },
  {
   "cell_type": "code",
   "execution_count": null,
   "metadata": {},
   "outputs": [],
   "source": [
    "mport math\n",
    "(n,robot_move,x,y)=(int(input()),[],0,0)\n",
    "for robot in range(n):\n",
    "     direction,magnitude=input().split() \n",
    "if direction =='UP':\n",
    "    y=y+int(magnitude)\n",
    "if direction=='DOWN':\n",
    "    y=y-int(magnitude)\n",
    "if direction=='RIGHT':\n",
    "    x=x+int(magnitude)\n",
    "if direction=='LEFT':\n",
    "    x=x-int(magnitude)\n",
    "    print(round(math.sqrt(x*x+y*y)),end=\"\")"
   ]
  }
 ],
 "metadata": {
  "kernelspec": {
   "display_name": "Python 3",
   "language": "python",
   "name": "python3"
  },
  "language_info": {
   "codemirror_mode": {
    "name": "ipython",
    "version": 3
   },
   "file_extension": ".py",
   "mimetype": "text/x-python",
   "name": "python",
   "nbconvert_exporter": "python",
   "pygments_lexer": "ipython3",
   "version": "3.8.3"
  }
 },
 "nbformat": 4,
 "nbformat_minor": 4
}
