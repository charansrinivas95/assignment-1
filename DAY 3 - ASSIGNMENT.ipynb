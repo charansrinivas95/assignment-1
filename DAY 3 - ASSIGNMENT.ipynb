{
 "cells": [
  {
   "cell_type": "raw",
   "metadata": {},
   "source": [
    "# question 1"
   ]
  },
  {
   "cell_type": "code",
   "execution_count": 2,
   "metadata": {},
   "outputs": [
    {
     "name": "stdout",
     "output_type": "stream",
     "text": [
      "[ 2  5  8 11 14 17 20 23 26 29 32 35 38 41 44 47]\n"
     ]
    }
   ],
   "source": [
    "import numpy as np\n",
    "arr=np.arange(2,50,3)\n",
    "print(arr)\n",
    "\n"
   ]
  },
  {
   "cell_type": "raw",
   "metadata": {},
   "source": [
    "question 2"
   ]
  },
  {
   "cell_type": "code",
   "execution_count": null,
   "metadata": {},
   "outputs": [],
   "source": [
    "import numpy as np\n",
    "list=[]\n",
    "list=[]\n",
    "num=5\n",
    "for i in range(0,num):\n",
    "    list1=int(input())\n",
    "    list.append(list1)\n",
    "print(list)\n",
    "for j in range(0,num):\n",
    "    list2=int(input())\n",
    "    list1.append(list2)\n",
    "    print(list1)\n",
    "arr=np.array(list)\n",
    "print(arr)\n",
    "arr1=np.array(list1)\n",
    "print(arr1)\n",
    "arr2=np.concatenate((arr,arr1))\n",
    "print(arr2)\n",
    "print(np.sort(arr2))"
   ]
  },
  {
   "cell_type": "markdown",
   "metadata": {},
   "source": [
    "question 3"
   ]
  },
  {
   "cell_type": "code",
   "execution_count": null,
   "metadata": {},
   "outputs": [],
   "source": [
    "import numpy as np\n",
    "x = np.array([[1, 2, 3], [4, 5, 6]])\n",
    "type(x)\n",
    "x.shape\n"
   ]
  },
  {
   "cell_type": "code",
   "execution_count": null,
   "metadata": {},
   "outputs": [],
   "source": [
    "import numpy as np\n",
    "x = np.array([[1, 2, 3], [4, 5, 6]])\n",
    "x.size"
   ]
  },
  {
   "cell_type": "raw",
   "metadata": {},
   "source": [
    "question 4"
   ]
  },
  {
   "cell_type": "code",
   "execution_count": null,
   "metadata": {},
   "outputs": [],
   "source": [
    "arr = np.array([0, 1, 2, 3, 4, 5, 6, 7, 8, 9])\n",
    "# Convert 1D array to a 2D numpy array of 2 rows and 3 columns\n",
    "arr_2d = np.reshape(arr, (2, 5))\n",
    "print(arr_2d)\n"
   ]
  },
  {
   "cell_type": "code",
   "execution_count": null,
   "metadata": {},
   "outputs": [],
   "source": [
    "x1 = np.array([1, 2, 3, 4, 5])\n",
    " x2 = np.array([5, 4, 3])\n",
    "x1_new = x1[:, np.newaxis]\n",
    "x1_new + x2"
   ]
  },
  {
   "cell_type": "code",
   "execution_count": null,
   "metadata": {},
   "outputs": [],
   "source": []
  },
  {
   "cell_type": "raw",
   "metadata": {},
   "source": [
    "question 5"
   ]
  },
  {
   "cell_type": "code",
   "execution_count": null,
   "metadata": {},
   "outputs": [],
   "source": [
    "import numpy as np \n",
    "a = np.array([[1,2],[3,4]]) \n",
    " \n",
    "print (a) \n",
    "  \n",
    "b = np.array([[5,6],[7,8]]) \n",
    " \n",
    "print (b) \n",
    "\n",
    "c = np.vstack((a,b)) \n",
    "print (c)"
   ]
  },
  {
   "cell_type": "raw",
   "metadata": {},
   "source": [
    "hstack()"
   ]
  },
  {
   "cell_type": "code",
   "execution_count": 14,
   "metadata": {},
   "outputs": [
    {
     "name": "stdout",
     "output_type": "stream",
     "text": [
      "[[1 2]\n",
      " [3 4]]\n",
      "[[5 6]\n",
      " [7 8]]\n",
      "[[1 2]\n",
      " [3 4]\n",
      " [5 6]\n",
      " [7 8]]\n"
     ]
    }
   ],
   "source": [
    "import numpy as np \n",
    "a = np.array([[1,2],[3,4]]) \n",
    " \n",
    "print (a) \n",
    "  \n",
    "b = np.array([[5,6],[7,8]]) \n",
    " \n",
    "print (b) \n",
    "\n",
    "c = np.hstack((a,b)) \n",
    "print (c)"
   ]
  },
  {
   "cell_type": "raw",
   "metadata": {},
   "source": [
    "question 6 \n"
   ]
  },
  {
   "cell_type": "code",
   "execution_count": null,
   "metadata": {},
   "outputs": [],
   "source": []
  },
  {
   "cell_type": "code",
   "execution_count": null,
   "metadata": {},
   "outputs": [],
   "source": [
    "import pandas as pd \n",
    "data={\n",
    "    'id':[1,2,3,4,5],\n",
    "    'group':['abc','pqr','xyz','abc','mno'],\n",
    "    'team':['team A','team B','team D','team A','team A'] \n",
    "}\n",
    "df=pd.DataFrame(data)\n",
    "print(df)\n",
    "unique_values=df['team'].nunique()\n",
    "print()\n",
    "print(\"unique values in team are:\",unique_values)\n",
    "            \n"
   ]
  },
  {
   "cell_type": "code",
   "execution_count": null,
   "metadata": {},
   "outputs": [],
   "source": [
    "df['group'].unique()"
   ]
  },
  {
   "cell_type": "code",
   "execution_count": null,
   "metadata": {},
   "outputs": [],
   "source": []
  }
 ],
 "metadata": {
  "kernelspec": {
   "display_name": "Python 3",
   "language": "python",
   "name": "python3"
  },
  "language_info": {
   "codemirror_mode": {
    "name": "ipython",
    "version": 3
   },
   "file_extension": ".py",
   "mimetype": "text/x-python",
   "name": "python",
   "nbconvert_exporter": "python",
   "pygments_lexer": "ipython3",
   "version": "3.8.3"
  }
 },
 "nbformat": 4,
 "nbformat_minor": 4
}
